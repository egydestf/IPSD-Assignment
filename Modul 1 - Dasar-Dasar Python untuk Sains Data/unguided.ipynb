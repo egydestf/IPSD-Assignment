{
 "cells": [
  {
   "cell_type": "markdown",
   "id": "18c6c02c-d7cf-486f-9079-f68e1f1850be",
   "metadata": {},
   "source": [
    "#### Soal 1: Memecahkan Masalah Unik dengan Loop dan If-Else\n",
    "Buatlah program yang dapat menghasilkan pola berbentuk angka seperti di bawah ini, dengan syarat angka yang ditampilkan adalah hasil dari penjumlahan bilangan prima sebelumnya:\n",
    "```\n",
    "1\n",
    "2 3\n",
    "5 7 11\n",
    "13 17 19 23\n",
    "...\n",
    "```\n",
    "Jumlah angka pada setiap baris bertambah 1, dan bilangan yang ditampilkan adalah bilangan prima."
   ]
  },
  {
   "cell_type": "code",
   "execution_count": 1,
   "id": "3dcef04a-7723-498f-89ae-af4977a6c9d6",
   "metadata": {},
   "outputs": [
    {
     "name": "stdin",
     "output_type": "stream",
     "text": [
      "Masukkan jumlah level:  5\n"
     ]
    },
    {
     "name": "stdout",
     "output_type": "stream",
     "text": [
      "1 \n",
      "2 3 \n",
      "5 7 11 \n",
      "13 17 19 23 \n",
      "29 31 37 41 43 \n"
     ]
    }
   ],
   "source": [
    "# Fungsi untuk memeriksa apakah suatu angka adalah bilangan prima\n",
    "def is_prime(num):\n",
    "    if num < 2:\n",
    "        return False\n",
    "    for i in range(2, int(num**0.5) + 1):\n",
    "        if num % i == 0:\n",
    "            return False\n",
    "    return True\n",
    "\n",
    "# Fungsi untuk menghasilkan bilangan prima\n",
    "def generate_primes(n):\n",
    "    primes = []\n",
    "    num = 2\n",
    "    while len(primes) < n:\n",
    "        if is_prime(num):\n",
    "            primes.append(num)\n",
    "        num += 1\n",
    "    return primes\n",
    "\n",
    "# Fungsi untuk menampilkan pola piramida\n",
    "def prime_pyramid(levels):\n",
    "    total_numbers = sum(range(1, levels + 1))  # Total bilangan yang diperlukan\n",
    "    primes = generate_primes(total_numbers - 1)  # Menghasilkan bilangan prima yang diperlukan (dikurangi 1 karena 1 akan ditampilkan di awal)\n",
    "    \n",
    "    prime_index = 0  # Indeks untuk bilangan prima\n",
    "    for row in range(1, levels + 1):  # Menghasilkan pola piramida\n",
    "        for col in range(row):  # Menampilkan angka sesuai dengan jumlah pada baris\n",
    "            if row == 1 and col == 0:\n",
    "                print(1, end=\" \")  # Angka 1 di bagian atas\n",
    "            else:\n",
    "                print(primes[prime_index], end=\" \")\n",
    "                prime_index += 1\n",
    "        print()  # Pindah ke baris berikutnya\n",
    "\n",
    "# Input jumlah tingkat piramida bilangan prima\n",
    "n = int(input(\"Masukkan jumlah level: \"))\n",
    "prime_pyramid(n)"
   ]
  },
  {
   "cell_type": "markdown",
   "id": "4c91fbd9-d728-42ab-80df-8bc5c1287188",
   "metadata": {},
   "source": [
    "#### Soal 2: Membuat Fungsi dengan Syarat Spesifik\n",
    "Buatlah sebuah fungsi yang menerima dua input berupa list angka. Fungsi ini harus mengembalikan sebuah list baru yang berisi elemen dari dua list input yang memiliki indeks ganjil. List baru tersebut juga harus diurutkan secara menurun berdasarkan nilai elemen."
   ]
  },
  {
   "cell_type": "code",
   "execution_count": 4,
   "id": "874d2484-d66d-41d8-84dc-59339dd929cc",
   "metadata": {},
   "outputs": [
    {
     "name": "stdin",
     "output_type": "stream",
     "text": [
      "Masukkan elemen list pertama (pisahkan dengan spasi):  1 2 3 4 5 6\n",
      "Masukkan elemen list kedua (pisahkan dengan spasi):  5 6 7 8 9\n"
     ]
    },
    {
     "name": "stdout",
     "output_type": "stream",
     "text": [
      "List baru dengan elemen ganjil yang diurutkan secara menurun: [8, 6, 6, 4, 2]\n"
     ]
    }
   ],
   "source": [
    "def ambil_indeks_ganjil_dan_urutkan():\n",
    "    # Meminta input dua list dari pengguna\n",
    "    list1 = list(map(int, input(\"Masukkan elemen list pertama (pisahkan dengan spasi): \").split()))\n",
    "    list2 = list(map(int, input(\"Masukkan elemen list kedua (pisahkan dengan spasi): \").split()))\n",
    "    \n",
    "    # Mengambil elemen dengan indeks ganjil dari kedua list\n",
    "    elemen_ganjil = list1[1::2] + list2[1::2]\n",
    "    \n",
    "    # Mengurutkan secara menurun\n",
    "    elemen_ganjil.sort(reverse=True)\n",
    "    \n",
    "    return elemen_ganjil\n",
    "\n",
    "# Contoh penggunaan\n",
    "hasil = ambil_indeks_ganjil_dan_urutkan()\n",
    "print(\"List baru dengan elemen ganjil yang diurutkan secara menurun:\", hasil)"
   ]
  },
  {
   "cell_type": "markdown",
   "id": "26cc7b50-bf8b-4cd9-8e3b-aeb4b39e1ab9",
   "metadata": {},
   "source": [
    "#### Soal 3: Exception Handling dalam Konteks Nyata\n",
    "Buat sebuah program untuk mensimulasikan transaksi ATM. Program harus:\n",
    "1. Meminta pengguna memasukkan PIN (dibatasi 3 kali percobaan).\n",
    "2. Setelah PIN benar, meminta jumlah penarikan.\n",
    "3. Jika saldo kurang dari jumlah yang ditarik, munculkan pesan kesalahan.\n",
    "4. Jika penarikan berhasil, tampilkan saldo akhir."
   ]
  },
  {
   "cell_type": "code",
   "execution_count": 3,
   "id": "64f82f9c-3491-43ac-bfa6-e31ed5e0f5bc",
   "metadata": {},
   "outputs": [
    {
     "name": "stdout",
     "output_type": "stream",
     "text": [
      "Selamat datang di ATM Deez!\n"
     ]
    },
    {
     "name": "stdin",
     "output_type": "stream",
     "text": [
      "Masukkan PIN:  1234\n",
      "Masukkan jumlah penarikan:  200000\n"
     ]
    },
    {
     "name": "stdout",
     "output_type": "stream",
     "text": [
      "Penarikan berhasil. Sisa saldo Anda adalah Rp.300000.\n"
     ]
    }
   ],
   "source": [
    "saldo_awal = 500000 #Saldo awal\n",
    "default_pin = \"1234\" #Default PIN\n",
    "batas_percobaan = 3 #Batas percobaan PIN\n",
    "\n",
    "# Fungsi verifikasi PIN\n",
    "def verifikasi_pin():\n",
    "    for percobaan in range(batas_percobaan):\n",
    "        pin = input(\"Masukkan PIN: \")\n",
    "        if pin == default_pin:\n",
    "            return True\n",
    "        else:\n",
    "            print(f\"PIN salah. Anda memiliki {batas_percobaan - percobaan - 1} kesempatan lagi.\")\n",
    "    return False\n",
    "\n",
    "# Fungsi untuk melakukan penarikan\n",
    "def tarik_tunai(saldo):\n",
    "    jumlah_tarik = input(\"Masukkan jumlah penarikan: \")\n",
    "    \n",
    "    # Memeriksa apakah input adalah angka\n",
    "    if not jumlah_tarik.isdigit():\n",
    "        print(\"Masukkan jumlah yang valid (angka).\")\n",
    "        return saldo\n",
    "    \n",
    "    jumlah_tarik = int(jumlah_tarik)\n",
    "    \n",
    "    if jumlah_tarik > saldo:\n",
    "        print(\"Saldo tidak mencukupi untuk melakukan penarikan.\")\n",
    "    else:\n",
    "        saldo -= jumlah_tarik\n",
    "        print(f\"Penarikan berhasil. Sisa saldo Anda adalah Rp.{saldo}.\")\n",
    "    \n",
    "    return saldo\n",
    "\n",
    "# Program utama\n",
    "def atm_simulasi(saldo):\n",
    "    print(\"Selamat datang di ATM Deez!\")\n",
    "    \n",
    "    # Verifikasi PIN dan tarik tunai\n",
    "    if verifikasi_pin():\n",
    "        saldo = tarik_tunai(saldo)\n",
    "    else:\n",
    "        print(\"Akun Anda telah diblokir karena salah memasukkan PIN sebanyak 3 kali.\")\n",
    "    \n",
    "    return saldo\n",
    "\n",
    "# Menjalankan program dengan saldo awal\n",
    "saldo_akhir = atm_simulasi(saldo_awal)"
   ]
  },
  {
   "cell_type": "markdown",
   "id": "8b0d5197-f93f-412a-b839-a191dd737933",
   "metadata": {},
   "source": [
    "#### Soal 4: Studi Kasus Pengelolaan Data\n",
    "Anda diberikan file CSV berisi data nilai ujian mahasiswa. Tugas Anda adalah menulis sebuah program yang:\n",
    "1. Membaca file CSV dan menyimpan datanya ke dalam dictionary.\n",
    "2. Menghitung rata-rata nilai tiap mahasiswa.\n",
    "3. Menampilkan mahasiswa dengan nilai tertinggi dan terendah."
   ]
  },
  {
   "cell_type": "code",
   "execution_count": 2,
   "id": "209d3f3d-3ef2-495f-b256-b201ddd7e973",
   "metadata": {},
   "outputs": [
    {
     "name": "stdout",
     "output_type": "stream",
     "text": [
      "Rata-rata nilai seluruh siswa: 72.0\n",
      "\n",
      "Siswa dengan nilai tertinggi: Siswa_7 dengan nilai 100.00\n",
      "Siswa dengan nilai terendah: Siswa_5 dengan nilai 50.00\n"
     ]
    }
   ],
   "source": [
    "import csv\n",
    "data_siswa = {}\n",
    "\n",
    "with open('siswa_nilai.csv', 'r') as file:\n",
    "    reader = csv.reader(file)\n",
    "    next(reader)  \n",
    "    for row in reader:\n",
    "        nama, nilai = row\n",
    "        data_siswa[nama] = float(nilai)\n",
    "\n",
    "# Rata-rata nilai seluruh siswa\n",
    "jumlah_nilai = sum(data_siswa.values())\n",
    "rata_rata_nilai = jumlah_nilai / len(data_siswa)\n",
    "\n",
    "# Nilai tertinggi dan terendah\n",
    "nilai_tertinggi = max(data_siswa, key=data_siswa.get)\n",
    "nilai_terendah = min(data_siswa, key=data_siswa.get)\n",
    "\n",
    "# Tampilkan\n",
    "print(\"Rata-rata nilai seluruh siswa:\", rata_rata_nilai)\n",
    "print(f\"\\nSiswa dengan nilai tertinggi: {nilai_tertinggi} dengan nilai {data_siswa[nilai_tertinggi]:.2f}\")\n",
    "print(f\"Siswa dengan nilai terendah: {nilai_terendah} dengan nilai {data_siswa[nilai_terendah]:.2f}\")"
   ]
  },
  {
   "cell_type": "markdown",
   "id": "86c1524d-8b4d-4a81-98e3-1c823ccd79a0",
   "metadata": {},
   "source": [
    "#### Soal 5: Kombinasi Logika dan Kreativitas\n",
    "Buatlah permainan sederhana menggunakan Python, di mana komputer akan memilih sebuah angka secara acak antara 1 hingga 100, dan pengguna harus menebak angka tersebut. Setiap tebakan yang salah akan memberikan petunjuk apakah angka yang ditebak lebih besar atau lebih kecil dari angka sebenarnya. Batasi jumlah percobaan menjadi 5 kali. Setelah permainan selesai, tampilkan apakah pemain menang atau kalah."
   ]
  },
  {
   "cell_type": "code",
   "execution_count": 2,
   "id": "33d84c5c-acd1-4bdb-bd58-316c287d8018",
   "metadata": {},
   "outputs": [
    {
     "name": "stdin",
     "output_type": "stream",
     "text": [
      "Tebak angka rahasia (1-100):  30\n"
     ]
    },
    {
     "name": "stdout",
     "output_type": "stream",
     "text": [
      "Angka rahasia terlalu kecil. Silahkan coba lagi!\n"
     ]
    },
    {
     "name": "stdin",
     "output_type": "stream",
     "text": [
      "Tebak angka rahasia (1-100):  60\n"
     ]
    },
    {
     "name": "stdout",
     "output_type": "stream",
     "text": [
      "Angka rahasia terlalu kecil. Silahkan coba lagi!\n"
     ]
    },
    {
     "name": "stdin",
     "output_type": "stream",
     "text": [
      "Tebak angka rahasia (1-100):  70\n"
     ]
    },
    {
     "name": "stdout",
     "output_type": "stream",
     "text": [
      "Angka rahasia terlalu kecil. Silahkan coba lagi!\n"
     ]
    },
    {
     "name": "stdin",
     "output_type": "stream",
     "text": [
      "Tebak angka rahasia (1-100):  80\n"
     ]
    },
    {
     "name": "stdout",
     "output_type": "stream",
     "text": [
      "Angka rahasia terlalu besar. Silahkan coba lagi!\n"
     ]
    },
    {
     "name": "stdin",
     "output_type": "stream",
     "text": [
      "Tebak angka rahasia (1-100):  76\n"
     ]
    },
    {
     "name": "stdout",
     "output_type": "stream",
     "text": [
      "Angka rahasia terlalu besar. Silahkan coba lagi!\n",
      "Anda gagal menebak angka rahasia. Angka rahasia adalah 74.\n"
     ]
    }
   ],
   "source": [
    "import random\n",
    "\n",
    "angka_rahasia = random.randint(1, 100) #angka random 1-100\n",
    "jumlah_percobaan = 0\n",
    "\n",
    "\n",
    "while jumlah_percobaan < 5:\n",
    "    tebakan = int(input(\"Tebak angka rahasia (1-100): \"))\n",
    "\n",
    "   \n",
    "    if tebakan == angka_rahasia:\n",
    "        print(\"Selamat! Anda berhasil menebak angka rahasia!\")\n",
    "        break\n",
    "    elif tebakan > angka_rahasia:\n",
    "        print(\"Angka rahasia terlalu besar. Silahkan coba lagi!\")\n",
    "    else:\n",
    "        print(\"Angka rahasia terlalu kecil. Silahkan coba lagi!\")\n",
    "\n",
    "    jumlah_percobaan += 1\n",
    "\n",
    "\n",
    "if jumlah_percobaan == 5:\n",
    "    print(f\"Anda gagal menebak angka rahasia. Angka rahasia adalah {angka_rahasia}.\")"
   ]
  },
  {
   "cell_type": "markdown",
   "id": "c2a126a9-39d4-4709-9a9c-62384f9170c2",
   "metadata": {},
   "source": [
    "#### Soal 6: Rekursi yang Tidak Biasa\n",
    "Buat fungsi rekursif yang menerima input bilangan bulat `n` dan menghasilkan urutan\n",
    "bilangan seperti berikut ini:\n",
    "```\n",
    "Input: n = 4\n",
    "Output: 1, 1, 2, 6, 24\n",
    "```\n",
    "Fungsi ini harus menggunakan konsep rekursi untuk menghitung faktorial setiap angka hingga `n`."
   ]
  },
  {
   "cell_type": "code",
   "execution_count": 3,
   "id": "2e2fe8b0-333a-4504-8e98-576be322ab91",
   "metadata": {},
   "outputs": [
    {
     "name": "stdout",
     "output_type": "stream",
     "text": [
      "[1, 2, 6, 24]\n"
     ]
    }
   ],
   "source": [
    "# Fungsi rekursif hitung faktorial\n",
    "def factorial(n):\n",
    "    if n == 0 or n == 1:\n",
    "        return 1\n",
    "    else:\n",
    "        return n * factorial(n - 1)\n",
    "\n",
    "# Fungsi untuk menghasilkan urutan bilangan faktorial dari 1 hingga n\n",
    "def factorial_sequence(n):\n",
    "    sequence = []\n",
    "    for i in range(1, n + 1):\n",
    "        sequence.append(factorial(i))\n",
    "    return sequence\n",
    "\n",
    "# Contoh penggunaan\n",
    "n = 4\n",
    "output = factorial_sequence(n)\n",
    "print(output)"
   ]
  },
  {
   "cell_type": "markdown",
   "id": "12c50cc8-e756-43c4-9786-efa9324bea58",
   "metadata": {},
   "source": [
    "#### Soal 7: Pemrograman dengan Algoritma Greedy\n",
    "Buatlah program untuk memecahkan masalah \"minimum coin change\". Diberikan jumlah uang dan daftar nilai koin yang tersedia (misalnya, 1, 5, 10, 25), tentukan kombinasi minimum koin yang diperlukan untuk mencapai jumlah uang tersebut. Namun, program Anda harus bisa menangani koin-koin yang nilai dan jumlahnya ditentukan pengguna."
   ]
  },
  {
   "cell_type": "code",
   "execution_count": 5,
   "id": "f7a82758-43f5-405a-bcc9-6f309857db59",
   "metadata": {},
   "outputs": [
    {
     "name": "stdin",
     "output_type": "stream",
     "text": [
      "Masukkan denominasi koin (dipisahkan oleh spasi):  1 5 10\n",
      "Masukkan jumlah yang ingin diubah:  100\n"
     ]
    },
    {
     "name": "stdout",
     "output_type": "stream",
     "text": [
      "Koin Digunakan: 10, 10, 10, 10, 10, 10, 10, 10, 10, 10, \n",
      "Total Koin: 10\n"
     ]
    }
   ],
   "source": [
    "def greedy_coin_change(jumlah, denominasi):\n",
    "    denominasi.sort(reverse=True)  \n",
    "    koin_digunakan = []\n",
    "\n",
    "    for koin in denominasi:\n",
    "        while jumlah >= koin:\n",
    "            koin_digunakan.append(koin)\n",
    "            jumlah -= koin\n",
    "\n",
    "    return koin_digunakan\n",
    "\n",
    "# Dapatkan denominasi koin dan jumlah dari pengguna\n",
    "denominasi_koin = list(map(int, input(\"Masukkan denominasi koin (dipisahkan oleh spasi): \").split()))\n",
    "jumlah_diubah = int(input(\"Masukkan jumlah yang ingin diubah: \"))\n",
    "\n",
    "\n",
    "hasil = greedy_coin_change(jumlah_diubah, denominasi_koin)\n",
    "\n",
    "\n",
    "print(\"Koin Digunakan:\", end=\" \")\n",
    "for koin in hasil:\n",
    "    print(koin, end=\", \")\n",
    "print()\n",
    "print(\"Total Koin:\", len(hasil))"
   ]
  },
  {
   "cell_type": "markdown",
   "id": "88a323f6-8b28-4310-a047-3c697c251c26",
   "metadata": {},
   "source": [
    "#### Soal 8: Kombinasi String dan Manipulasi List\n",
    "Buat sebuah program yang menerima string dari pengguna dan mengonversi string\n",
    "tersebut menjadi sebuah list berisi kata-kata terbalik. Misalnya:\n",
    "```\n",
    "Input: \"Saya suka Python\"\n",
    "Output: [\"ayaS\", \"akus\", \"nohtyP\"]\n",
    "```"
   ]
  },
  {
   "cell_type": "code",
   "execution_count": 1,
   "id": "233d1555-1a21-40e5-8e37-48c599e93f20",
   "metadata": {},
   "outputs": [
    {
     "name": "stdin",
     "output_type": "stream",
     "text": [
      "Masukkan kata:  Saya suka python\n"
     ]
    },
    {
     "name": "stdout",
     "output_type": "stream",
     "text": [
      "Output: ['ayaS', 'akus', 'nohtyp']\n"
     ]
    }
   ],
   "source": [
    "def reverse_kata(input_string):\n",
    "    kata_kata = input_string.split()  \n",
    "    kata_kata_balik = [kata[::-1] for kata in kata_kata]  \n",
    "    return kata_kata_balik\n",
    "\n",
    "\n",
    "input_string = input(\"Masukkan kata: \")\n",
    "\n",
    "\n",
    "hasil = reverse_kata(input_string)\n",
    "\n",
    "# Cetak hasil\n",
    "print(\"Output:\", hasil)"
   ]
  },
  {
   "cell_type": "markdown",
   "id": "ffef7d17-1e38-4c43-9d94-fdcf9d955d27",
   "metadata": {},
   "source": [
    "#### Soal 9: Konsep Class dan Object-Oriented Programming\n",
    "Buat class bernama `Buku` yang memiliki atribut `judul`, `penulis`, dan `tahun_terbit`. Buat method dalam class untuk menampilkan informasi buku, serta method untuk menghitung usiabuku berdasarkan tahun saat ini. Buatlah 3 objek dari class `Buku` dan tampilkan informasi serta usia masing-masing buku."
   ]
  },
  {
   "cell_type": "code",
   "execution_count": 6,
   "id": "3911c094-6dfc-4b71-860e-18ebf9fdae16",
   "metadata": {},
   "outputs": [
    {
     "name": "stdout",
     "output_type": "stream",
     "text": [
      "Buku 1:\n",
      "Judul\t\t: To Kill a Mockingbird\n",
      "Penulis\t\t: Harper Lee\n",
      "Tahun Terbit\t: 1960\n",
      "Usia\t\t: 64 tahun\n",
      "\n",
      "Buku 2:\n",
      "Judul\t\t: The Catcher in The Rye\n",
      "Penulis\t\t: J.D. Salinger\n",
      "Tahun Terbit\t: 1951\n",
      "Usia\t\t: 73 tahun\n",
      "\n",
      "Buku 3:\n",
      "Judul\t\t: The Hunger Games\n",
      "Penulis\t\t: Suzanne Collins\n",
      "Tahun Terbit\t: 2008\n",
      "Usia\t\t: 16 tahun\n",
      "\n"
     ]
    }
   ],
   "source": [
    "import datetime\n",
    "\n",
    "class Buku:\n",
    "    def __init__(self, judul, penulis, tahun_terbit):\n",
    "        self.judul = judul\n",
    "        self.penulis = penulis\n",
    "        self.tahun_terbit = tahun_terbit\n",
    "\n",
    "    def tampilkan_informasi(self):\n",
    "        print(f\"Judul\\t\\t: {self.judul}\")\n",
    "        print(f\"Penulis\\t\\t: {self.penulis}\")\n",
    "        print(f\"Tahun Terbit\\t: {self.tahun_terbit}\")\n",
    "\n",
    "    def hitung_usia(self):\n",
    "        tahun_saat_ini = datetime.date.today().year\n",
    "        usia = tahun_saat_ini - self.tahun_terbit\n",
    "        return usia\n",
    "\n",
    "\n",
    "buku1 = Buku(\"To Kill a Mockingbird\", \"Harper Lee\", 1960)\n",
    "buku2 = Buku(\"The Catcher in The Rye\", \"J.D. Salinger\", 1951)\n",
    "buku3 = Buku(\"The Hunger Games\", \"Suzanne Collins\", 2008)\n",
    "\n",
    "\n",
    "print(\"Buku 1:\")\n",
    "buku1.tampilkan_informasi()\n",
    "print(f\"Usia\\t\\t: {buku1.hitung_usia()} tahun\")\n",
    "print()\n",
    "\n",
    "print(\"Buku 2:\")\n",
    "buku2.tampilkan_informasi()\n",
    "print(f\"Usia\\t\\t: {buku2.hitung_usia()} tahun\")\n",
    "print()\n",
    "\n",
    "print(\"Buku 3:\")\n",
    "buku3.tampilkan_informasi()\n",
    "print(f\"Usia\\t\\t: {buku3.hitung_usia()} tahun\")\n",
    "print()"
   ]
  },
  {
   "cell_type": "markdown",
   "id": "373b269e-46d8-4672-a8ee-0b6c11291612",
   "metadata": {},
   "source": [
    "#### Soal 10: Algoritma dengan Persyaratan Logika Khusus\n",
    "Buatlah program yang mengimplementasikan algoritma pencarian biner, namun dengan modifikasi: algoritma harus bisa mencari nilai di list yang hanya berisi angka genap, dan jika nilai yang dicari adalah angka ganjil, program harus menampilkan pesan bahwa nilai tersebut tidak bisa ditemukan."
   ]
  },
  {
   "cell_type": "code",
   "execution_count": 15,
   "id": "dff0a301-e960-4680-b07e-f8abcdc92f4f",
   "metadata": {},
   "outputs": [
    {
     "name": "stdin",
     "output_type": "stream",
     "text": [
      "Masukkan angka yang ingin dicari:  20\n"
     ]
    },
    {
     "name": "stdout",
     "output_type": "stream",
     "text": [
      "Angka berhasil ditemukan pada indeks: 9\n"
     ]
    }
   ],
   "source": [
    "def binary_search(lst, target):\n",
    "    low = 0\n",
    "    high = len(lst) - 1\n",
    "\n",
    "    while low <= high:\n",
    "        mid = (low + high) // 2\n",
    "        if lst[mid] == target:\n",
    "            return mid\n",
    "        elif lst[mid] < target:\n",
    "            low = mid + 1\n",
    "        else:\n",
    "            high = mid - 1\n",
    "\n",
    "    if target % 2 != 0:\n",
    "        return \"Angka tidak bisa ditemukan karena angka tersebut bernilai ganjil\"\n",
    "    else:\n",
    "        return \"Angka tidak ada dalam list\"\n",
    "\n",
    "# Contoh penggunaan\n",
    "even_numbers = [2, 4, 6, 8, 10, 12, 14, 16, 18, 20]\n",
    "target = int(input(\"Masukkan angka yang ingin dicari: \"))\n",
    "result = binary_search(even_numbers, target)\n",
    "\n",
    "print(\"Angka berhasil ditemukan pada indeks:\",result)"
   ]
  }
 ],
 "metadata": {
  "kernelspec": {
   "display_name": "Python 3 (ipykernel)",
   "language": "python",
   "name": "python3"
  },
  "language_info": {
   "codemirror_mode": {
    "name": "ipython",
    "version": 3
   },
   "file_extension": ".py",
   "mimetype": "text/x-python",
   "name": "python",
   "nbconvert_exporter": "python",
   "pygments_lexer": "ipython3",
   "version": "3.12.4"
  }
 },
 "nbformat": 4,
 "nbformat_minor": 5
}
