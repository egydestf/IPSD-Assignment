{
 "cells": [
  {
   "cell_type": "code",
   "execution_count": 1,
   "id": "a088447f-f37f-4a56-b6ec-badd54f0f995",
   "metadata": {},
   "outputs": [],
   "source": [
    "import pandas as pd"
   ]
  },
  {
   "cell_type": "code",
   "execution_count": 6,
   "id": "73014305-63e1-45eb-a09e-5043f779461d",
   "metadata": {},
   "outputs": [],
   "source": [
    "iris_filename = 'dataset/iris.csv'\n",
    "iris = pd.read_csv(iris_filename, sep=',',\n",
    "                  decimal='.',header=None,\n",
    "                  names = ['sepal_length','sepal_width',\n",
    "                          'petal_length','petal_width',\n",
    "                          'target'])"
   ]
  },
  {
   "cell_type": "code",
   "execution_count": 7,
   "id": "863ed5b2-8c0f-4571-bf35-2191722d93c3",
   "metadata": {},
   "outputs": [
    {
     "data": {
      "text/html": [
       "<div>\n",
       "<style scoped>\n",
       "    .dataframe tbody tr th:only-of-type {\n",
       "        vertical-align: middle;\n",
       "    }\n",
       "\n",
       "    .dataframe tbody tr th {\n",
       "        vertical-align: top;\n",
       "    }\n",
       "\n",
       "    .dataframe thead th {\n",
       "        text-align: right;\n",
       "    }\n",
       "</style>\n",
       "<table border=\"1\" class=\"dataframe\">\n",
       "  <thead>\n",
       "    <tr style=\"text-align: right;\">\n",
       "      <th></th>\n",
       "      <th>sepal_length</th>\n",
       "      <th>sepal_width</th>\n",
       "      <th>petal_length</th>\n",
       "      <th>petal_width</th>\n",
       "      <th>target</th>\n",
       "    </tr>\n",
       "  </thead>\n",
       "  <tbody>\n",
       "    <tr>\n",
       "      <th>Id</th>\n",
       "      <td>SepalLengthCm</td>\n",
       "      <td>SepalWidthCm</td>\n",
       "      <td>PetalLengthCm</td>\n",
       "      <td>PetalWidthCm</td>\n",
       "      <td>Species</td>\n",
       "    </tr>\n",
       "    <tr>\n",
       "      <th>1</th>\n",
       "      <td>5.10</td>\n",
       "      <td>3.50</td>\n",
       "      <td>1.40</td>\n",
       "      <td>0.20</td>\n",
       "      <td>Iris-setosa</td>\n",
       "    </tr>\n",
       "    <tr>\n",
       "      <th>2</th>\n",
       "      <td>4.90</td>\n",
       "      <td>3.00</td>\n",
       "      <td>1.40</td>\n",
       "      <td>0.20</td>\n",
       "      <td>Iris-setosa</td>\n",
       "    </tr>\n",
       "    <tr>\n",
       "      <th>3</th>\n",
       "      <td>4.70</td>\n",
       "      <td>3.20</td>\n",
       "      <td>1.30</td>\n",
       "      <td>0.20</td>\n",
       "      <td>Iris-setosa</td>\n",
       "    </tr>\n",
       "    <tr>\n",
       "      <th>4</th>\n",
       "      <td>4.60</td>\n",
       "      <td>3.10</td>\n",
       "      <td>1.50</td>\n",
       "      <td>0.20</td>\n",
       "      <td>Iris-setosa</td>\n",
       "    </tr>\n",
       "    <tr>\n",
       "      <th>5</th>\n",
       "      <td>5.00</td>\n",
       "      <td>3.60</td>\n",
       "      <td>1.40</td>\n",
       "      <td>0.20</td>\n",
       "      <td>Iris-setosa</td>\n",
       "    </tr>\n",
       "    <tr>\n",
       "      <th>6</th>\n",
       "      <td>5.40</td>\n",
       "      <td>3.90</td>\n",
       "      <td>1.70</td>\n",
       "      <td>0.40</td>\n",
       "      <td>Iris-setosa</td>\n",
       "    </tr>\n",
       "    <tr>\n",
       "      <th>7</th>\n",
       "      <td>4.60</td>\n",
       "      <td>3.40</td>\n",
       "      <td>1.40</td>\n",
       "      <td>0.30</td>\n",
       "      <td>Iris-setosa</td>\n",
       "    </tr>\n",
       "    <tr>\n",
       "      <th>8</th>\n",
       "      <td>5.00</td>\n",
       "      <td>3.40</td>\n",
       "      <td>1.50</td>\n",
       "      <td>0.20</td>\n",
       "      <td>Iris-setosa</td>\n",
       "    </tr>\n",
       "    <tr>\n",
       "      <th>9</th>\n",
       "      <td>4.40</td>\n",
       "      <td>2.90</td>\n",
       "      <td>1.40</td>\n",
       "      <td>0.20</td>\n",
       "      <td>Iris-setosa</td>\n",
       "    </tr>\n",
       "  </tbody>\n",
       "</table>\n",
       "</div>"
      ],
      "text/plain": [
       "     sepal_length   sepal_width   petal_length   petal_width       target\n",
       "Id  SepalLengthCm  SepalWidthCm  PetalLengthCm  PetalWidthCm      Species\n",
       "1            5.10          3.50           1.40          0.20  Iris-setosa\n",
       "2            4.90          3.00           1.40          0.20  Iris-setosa\n",
       "3            4.70          3.20           1.30          0.20  Iris-setosa\n",
       "4            4.60          3.10           1.50          0.20  Iris-setosa\n",
       "5            5.00          3.60           1.40          0.20  Iris-setosa\n",
       "6            5.40          3.90           1.70          0.40  Iris-setosa\n",
       "7            4.60          3.40           1.40          0.30  Iris-setosa\n",
       "8            5.00          3.40           1.50          0.20  Iris-setosa\n",
       "9            4.40          2.90           1.40          0.20  Iris-setosa"
      ]
     },
     "execution_count": 7,
     "metadata": {},
     "output_type": "execute_result"
    }
   ],
   "source": [
    "iris.head(10)"
   ]
  },
  {
   "cell_type": "code",
   "execution_count": 9,
   "id": "d4bdfe5b-b368-46c3-a525-e575c0aa98cd",
   "metadata": {},
   "outputs": [
    {
     "data": {
      "text/plain": [
       "Index(['sepal_length', 'sepal_width', 'petal_length', 'petal_width', 'target'], dtype='object')"
      ]
     },
     "execution_count": 9,
     "metadata": {},
     "output_type": "execute_result"
    }
   ],
   "source": [
    "# untuk mengetahui nama kolom\n",
    "iris.columns"
   ]
  },
  {
   "cell_type": "code",
   "execution_count": 10,
   "id": "d1dd8c97-8475-436e-b6c5-77731e47656e",
   "metadata": {},
   "outputs": [
    {
     "data": {
      "text/plain": [
       "Id            Species\n",
       "1         Iris-setosa\n",
       "2         Iris-setosa\n",
       "3         Iris-setosa\n",
       "4         Iris-setosa\n",
       "            ...      \n",
       "146    Iris-virginica\n",
       "147    Iris-virginica\n",
       "148    Iris-virginica\n",
       "149    Iris-virginica\n",
       "150    Iris-virginica\n",
       "Name: target, Length: 151, dtype: object"
      ]
     },
     "execution_count": 10,
     "metadata": {},
     "output_type": "execute_result"
    }
   ],
   "source": [
    "iris['target']"
   ]
  },
  {
   "cell_type": "code",
   "execution_count": 12,
   "id": "355ac21d-fc93-466f-acd5-20306665501c",
   "metadata": {},
   "outputs": [
    {
     "name": "stdout",
     "output_type": "stream",
     "text": [
      "              sepal_length   sepal_width   petal_length   petal_width\n",
      "target                                                               \n",
      "Species      SepalLengthCm  SepalWidthCm  PetalLengthCm  PetalWidthCm\n",
      "Iris-setosa           5.10          3.50           1.40          0.20\n",
      "Iris-setosa           4.90          3.00           1.40          0.20\n",
      "Iris-setosa           4.70          3.20           1.30          0.20\n",
      "Iris-setosa           4.60          3.10           1.50          0.20\n"
     ]
    }
   ],
   "source": [
    "# mengatur kolom target sebagai indeks\n",
    "iris.set_index('target', inplace=True)\n",
    "print(iris.head())"
   ]
  },
  {
   "cell_type": "code",
   "execution_count": 13,
   "id": "b3b50e22-af33-40b6-b844-a812edca4ed6",
   "metadata": {},
   "outputs": [],
   "source": [
    "# menghapus indeks yang sudah dibuat\n",
    "iris.reset_index(drop=True, inplace=True)"
   ]
  },
  {
   "cell_type": "code",
   "execution_count": 14,
   "id": "a4d8f4f6-ad70-494d-b73f-c73dfeed133c",
   "metadata": {},
   "outputs": [
    {
     "data": {
      "text/html": [
       "<div>\n",
       "<style scoped>\n",
       "    .dataframe tbody tr th:only-of-type {\n",
       "        vertical-align: middle;\n",
       "    }\n",
       "\n",
       "    .dataframe tbody tr th {\n",
       "        vertical-align: top;\n",
       "    }\n",
       "\n",
       "    .dataframe thead th {\n",
       "        text-align: right;\n",
       "    }\n",
       "</style>\n",
       "<table border=\"1\" class=\"dataframe\">\n",
       "  <thead>\n",
       "    <tr style=\"text-align: right;\">\n",
       "      <th></th>\n",
       "      <th>sepal_length</th>\n",
       "      <th>sepal_width</th>\n",
       "      <th>petal_length</th>\n",
       "      <th>petal_width</th>\n",
       "    </tr>\n",
       "  </thead>\n",
       "  <tbody>\n",
       "    <tr>\n",
       "      <th>0</th>\n",
       "      <td>SepalLengthCm</td>\n",
       "      <td>SepalWidthCm</td>\n",
       "      <td>PetalLengthCm</td>\n",
       "      <td>PetalWidthCm</td>\n",
       "    </tr>\n",
       "    <tr>\n",
       "      <th>1</th>\n",
       "      <td>5.10</td>\n",
       "      <td>3.50</td>\n",
       "      <td>1.40</td>\n",
       "      <td>0.20</td>\n",
       "    </tr>\n",
       "    <tr>\n",
       "      <th>2</th>\n",
       "      <td>4.90</td>\n",
       "      <td>3.00</td>\n",
       "      <td>1.40</td>\n",
       "      <td>0.20</td>\n",
       "    </tr>\n",
       "    <tr>\n",
       "      <th>3</th>\n",
       "      <td>4.70</td>\n",
       "      <td>3.20</td>\n",
       "      <td>1.30</td>\n",
       "      <td>0.20</td>\n",
       "    </tr>\n",
       "    <tr>\n",
       "      <th>4</th>\n",
       "      <td>4.60</td>\n",
       "      <td>3.10</td>\n",
       "      <td>1.50</td>\n",
       "      <td>0.20</td>\n",
       "    </tr>\n",
       "    <tr>\n",
       "      <th>...</th>\n",
       "      <td>...</td>\n",
       "      <td>...</td>\n",
       "      <td>...</td>\n",
       "      <td>...</td>\n",
       "    </tr>\n",
       "    <tr>\n",
       "      <th>146</th>\n",
       "      <td>6.70</td>\n",
       "      <td>3.00</td>\n",
       "      <td>5.20</td>\n",
       "      <td>2.30</td>\n",
       "    </tr>\n",
       "    <tr>\n",
       "      <th>147</th>\n",
       "      <td>6.30</td>\n",
       "      <td>2.50</td>\n",
       "      <td>5.00</td>\n",
       "      <td>1.90</td>\n",
       "    </tr>\n",
       "    <tr>\n",
       "      <th>148</th>\n",
       "      <td>6.50</td>\n",
       "      <td>3.00</td>\n",
       "      <td>5.20</td>\n",
       "      <td>2.00</td>\n",
       "    </tr>\n",
       "    <tr>\n",
       "      <th>149</th>\n",
       "      <td>6.20</td>\n",
       "      <td>3.40</td>\n",
       "      <td>5.40</td>\n",
       "      <td>2.30</td>\n",
       "    </tr>\n",
       "    <tr>\n",
       "      <th>150</th>\n",
       "      <td>5.90</td>\n",
       "      <td>3.00</td>\n",
       "      <td>5.10</td>\n",
       "      <td>1.80</td>\n",
       "    </tr>\n",
       "  </tbody>\n",
       "</table>\n",
       "<p>151 rows × 4 columns</p>\n",
       "</div>"
      ],
      "text/plain": [
       "      sepal_length   sepal_width   petal_length   petal_width\n",
       "0    SepalLengthCm  SepalWidthCm  PetalLengthCm  PetalWidthCm\n",
       "1             5.10          3.50           1.40          0.20\n",
       "2             4.90          3.00           1.40          0.20\n",
       "3             4.70          3.20           1.30          0.20\n",
       "4             4.60          3.10           1.50          0.20\n",
       "..             ...           ...            ...           ...\n",
       "146           6.70          3.00           5.20          2.30\n",
       "147           6.30          2.50           5.00          1.90\n",
       "148           6.50          3.00           5.20          2.00\n",
       "149           6.20          3.40           5.40          2.30\n",
       "150           5.90          3.00           5.10          1.80\n",
       "\n",
       "[151 rows x 4 columns]"
      ]
     },
     "execution_count": 14,
     "metadata": {},
     "output_type": "execute_result"
    }
   ],
   "source": [
    "iris"
   ]
  },
  {
   "cell_type": "code",
   "execution_count": 16,
   "id": "5393fd15-4b0f-4971-bad9-1440e706abc3",
   "metadata": {},
   "outputs": [
    {
     "data": {
      "text/html": [
       "<div>\n",
       "<style scoped>\n",
       "    .dataframe tbody tr th:only-of-type {\n",
       "        vertical-align: middle;\n",
       "    }\n",
       "\n",
       "    .dataframe tbody tr th {\n",
       "        vertical-align: top;\n",
       "    }\n",
       "\n",
       "    .dataframe thead th {\n",
       "        text-align: right;\n",
       "    }\n",
       "</style>\n",
       "<table border=\"1\" class=\"dataframe\">\n",
       "  <thead>\n",
       "    <tr style=\"text-align: right;\">\n",
       "      <th></th>\n",
       "      <th>Id</th>\n",
       "      <th>SepalLengthCm</th>\n",
       "      <th>SepalWidthCm</th>\n",
       "      <th>PetalLengthCm</th>\n",
       "      <th>PetalWidthCm</th>\n",
       "      <th>Species</th>\n",
       "    </tr>\n",
       "  </thead>\n",
       "  <tbody>\n",
       "    <tr>\n",
       "      <th>0</th>\n",
       "      <td>1</td>\n",
       "      <td>5.1</td>\n",
       "      <td>3.5</td>\n",
       "      <td>1.4</td>\n",
       "      <td>0.2</td>\n",
       "      <td>Iris-setosa</td>\n",
       "    </tr>\n",
       "    <tr>\n",
       "      <th>1</th>\n",
       "      <td>2</td>\n",
       "      <td>4.9</td>\n",
       "      <td>3.0</td>\n",
       "      <td>1.4</td>\n",
       "      <td>0.2</td>\n",
       "      <td>Iris-setosa</td>\n",
       "    </tr>\n",
       "    <tr>\n",
       "      <th>2</th>\n",
       "      <td>3</td>\n",
       "      <td>4.7</td>\n",
       "      <td>3.2</td>\n",
       "      <td>1.3</td>\n",
       "      <td>0.2</td>\n",
       "      <td>Iris-setosa</td>\n",
       "    </tr>\n",
       "    <tr>\n",
       "      <th>3</th>\n",
       "      <td>4</td>\n",
       "      <td>4.6</td>\n",
       "      <td>3.1</td>\n",
       "      <td>1.5</td>\n",
       "      <td>0.2</td>\n",
       "      <td>Iris-setosa</td>\n",
       "    </tr>\n",
       "    <tr>\n",
       "      <th>4</th>\n",
       "      <td>5</td>\n",
       "      <td>5.0</td>\n",
       "      <td>3.6</td>\n",
       "      <td>1.4</td>\n",
       "      <td>0.2</td>\n",
       "      <td>Iris-setosa</td>\n",
       "    </tr>\n",
       "  </tbody>\n",
       "</table>\n",
       "</div>"
      ],
      "text/plain": [
       "   Id  SepalLengthCm  SepalWidthCm  PetalLengthCm  PetalWidthCm      Species\n",
       "0   1            5.1           3.5            1.4           0.2  Iris-setosa\n",
       "1   2            4.9           3.0            1.4           0.2  Iris-setosa\n",
       "2   3            4.7           3.2            1.3           0.2  Iris-setosa\n",
       "3   4            4.6           3.1            1.5           0.2  Iris-setosa\n",
       "4   5            5.0           3.6            1.4           0.2  Iris-setosa"
      ]
     },
     "execution_count": 16,
     "metadata": {},
     "output_type": "execute_result"
    }
   ],
   "source": [
    "irisn = pd.read_csv(iris_filename)\n",
    "irisn.head()"
   ]
  },
  {
   "cell_type": "code",
   "execution_count": 17,
   "id": "3c5c17c6-26e3-48a6-8f05-321ad0e4f834",
   "metadata": {},
   "outputs": [
    {
     "name": "stdout",
     "output_type": "stream",
     "text": [
      "<class 'pandas.core.frame.DataFrame'>\n",
      "RangeIndex: 150 entries, 0 to 149\n",
      "Data columns (total 6 columns):\n",
      " #   Column         Non-Null Count  Dtype  \n",
      "---  ------         --------------  -----  \n",
      " 0   Id             150 non-null    int64  \n",
      " 1   SepalLengthCm  150 non-null    float64\n",
      " 2   SepalWidthCm   150 non-null    float64\n",
      " 3   PetalLengthCm  150 non-null    float64\n",
      " 4   PetalWidthCm   150 non-null    float64\n",
      " 5   Species        150 non-null    object \n",
      "dtypes: float64(4), int64(1), object(1)\n",
      "memory usage: 7.2+ KB\n"
     ]
    }
   ],
   "source": [
    "irisn.info()"
   ]
  },
  {
   "cell_type": "code",
   "execution_count": 18,
   "id": "eadd891a-4879-44be-a046-0cce6caf4ec7",
   "metadata": {},
   "outputs": [
    {
     "name": "stdout",
     "output_type": "stream",
     "text": [
      "   Id  SepalLengthCm  SepalWidthCm  PetalLengthCm  PetalWidthCm      Species  \\\n",
      "0   1            5.1           3.5            1.4           0.2  Iris-setosa   \n",
      "1   2            4.9           3.0            1.4           0.2  Iris-setosa   \n",
      "2   3            4.7           3.2            1.3           0.2  Iris-setosa   \n",
      "3   4            4.6           3.1            1.5           0.2  Iris-setosa   \n",
      "4   5            5.0           3.6            1.4           0.2  Iris-setosa   \n",
      "\n",
      "   sepal_ratio  \n",
      "0     1.457143  \n",
      "1     1.633333  \n",
      "2     1.468750  \n",
      "3     1.483871  \n",
      "4     1.388889  \n"
     ]
    }
   ],
   "source": [
    "irisn['sepal_ratio'] = irisn['SepalLengthCm'] / irisn['SepalWidthCm']\n",
    "print(irisn.head())"
   ]
  },
  {
   "cell_type": "code",
   "execution_count": 19,
   "id": "562495e3-1625-44fa-8d25-a1adadb8d046",
   "metadata": {},
   "outputs": [
    {
     "name": "stdout",
     "output_type": "stream",
     "text": [
      "   Id  SepalLengthCm  SepalWidthCm  PetalLengthCm  PetalWidthCm      Species  \\\n",
      "0   1            5.1           3.5            1.4           0.2  Iris-setosa   \n",
      "1   2            4.9           3.0            1.4           0.2  Iris-setosa   \n",
      "2   3            4.7           3.2            1.3           0.2  Iris-setosa   \n",
      "3   4            4.6           3.1            1.5           0.2  Iris-setosa   \n",
      "4   5            5.0           3.6            1.4           0.2  Iris-setosa   \n",
      "\n",
      "   sepal_ratio  petal_area  \n",
      "0     1.457143        0.28  \n",
      "1     1.633333        0.28  \n",
      "2     1.468750        0.26  \n",
      "3     1.483871        0.30  \n",
      "4     1.388889        0.28  \n"
     ]
    }
   ],
   "source": [
    "irisn['petal_area'] = irisn.apply(lambda row: row['PetalLengthCm'] * row['PetalWidthCm'], axis=1)\n",
    "print(irisn.head())"
   ]
  },
  {
   "cell_type": "code",
   "execution_count": null,
   "id": "ba4b748f-9301-4a37-b6d1-052321a554e0",
   "metadata": {},
   "outputs": [],
   "source": []
  }
 ],
 "metadata": {
  "kernelspec": {
   "display_name": "Python 3 (ipykernel)",
   "language": "python",
   "name": "python3"
  },
  "language_info": {
   "codemirror_mode": {
    "name": "ipython",
    "version": 3
   },
   "file_extension": ".py",
   "mimetype": "text/x-python",
   "name": "python",
   "nbconvert_exporter": "python",
   "pygments_lexer": "ipython3",
   "version": "3.12.4"
  }
 },
 "nbformat": 4,
 "nbformat_minor": 5
}
